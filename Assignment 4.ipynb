{
 "cells": [
  {
   "cell_type": "code",
   "execution_count": null,
   "id": "21422dd7",
   "metadata": {},
   "outputs": [
    {
     "name": "stdout",
     "output_type": "stream",
     "text": [
      "This is a sample text file\n",
      "It contains multiple lines\n"
     ]
    }
   ],
   "source": [
    "# ASSIGNMENT 4:\n",
    "# Module 5: Files, Exceptions, and Errors in Python\n",
    "\n",
    "# Task 1: Read a File and Handle Errors \n",
    "# Problem Statement:  Write a Python program that:\n",
    "\n",
    "# # 1.   Opens and reads a text file named sample.txt.\n",
    "# 2.   Prints its content line by line.\n",
    "# 3.   Handles errors gracefully if the file does not exist.\n",
    "\n",
    "try:\n",
    "\twith open('sample.txt', 'r') as f:\n",
    "\t\tdata = f.read()\n",
    "\tprint(data)\n",
    "\t\n",
    "except FileNotFoundError:\n",
    "\tprint(\"Error: The file 'sample.txt' was not found. Please make sure the file exists in the current directory.\")"
   ]
  },
  {
   "cell_type": "code",
   "execution_count": null,
   "id": "fd12a3d7",
   "metadata": {},
   "outputs": [],
   "source": [
    "# Task 2: Write and Append Data to a File\n",
    "# Problem Statement: Write a Python program that:\n",
    "# 1.   Takes user input and writes it to a file named output.txt.\n",
    "\n",
    "with open ('Output.txt', 'w') as f2:\n",
    "    data = f2.write(input('Please enter value :'))\n"
   ]
  },
  {
   "cell_type": "code",
   "execution_count": 15,
   "id": "1a70d751",
   "metadata": {},
   "outputs": [],
   "source": [
    "# 2.   Appends additional data to the same file.\n",
    "with open ('Output.txt', 'a') as f2:\n",
    "    data = f2.write(input('Please enter value :'))"
   ]
  },
  {
   "cell_type": "code",
   "execution_count": 17,
   "id": "8389d54d",
   "metadata": {},
   "outputs": [
    {
     "name": "stdout",
     "output_type": "stream",
     "text": [
      "Hello everyoneWelcome to the class\n"
     ]
    }
   ],
   "source": [
    "# 3.   Reads and displays the final content of the file.\n",
    "with open ('Output.txt', 'r') as f2:\n",
    "    data = f2.read()\n",
    "\n",
    "print(data)"
   ]
  },
  {
   "cell_type": "code",
   "execution_count": null,
   "id": "3572bc2a",
   "metadata": {},
   "outputs": [],
   "source": []
  }
 ],
 "metadata": {
  "kernelspec": {
   "display_name": "Python 3",
   "language": "python",
   "name": "python3"
  },
  "language_info": {
   "codemirror_mode": {
    "name": "ipython",
    "version": 3
   },
   "file_extension": ".py",
   "mimetype": "text/x-python",
   "name": "python",
   "nbconvert_exporter": "python",
   "pygments_lexer": "ipython3",
   "version": "3.13.2"
  }
 },
 "nbformat": 4,
 "nbformat_minor": 5
}
